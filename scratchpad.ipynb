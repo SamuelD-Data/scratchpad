{
 "cells": [
  {
   "cell_type": "code",
   "execution_count": 40,
   "metadata": {},
   "outputs": [],
   "source": [
    "import pandas as pd\n",
    "import numpy as np\n",
    "\n",
    "import warnings\n",
    "warnings.filterwarnings(\"ignore\")\n",
    "\n",
    "import matplotlib.pyplot as plt\n",
    "import seaborn as sns\n",
    "import scipy.stats as stats"
   ]
  },
  {
   "cell_type": "markdown",
   "metadata": {},
   "source": [
    "## Note: All data within this notebook was gathered from BrianDunning.com and is fake."
   ]
  },
  {
   "cell_type": "code",
   "execution_count": 41,
   "metadata": {},
   "outputs": [],
   "source": [
    "landlords = pd.read_csv('us-500.csv')\n",
    "\n",
    "landlords = landlords.drop(columns = ['Unnamed: 7', 'company_name'])"
   ]
  },
  {
   "cell_type": "code",
   "execution_count": 42,
   "metadata": {},
   "outputs": [
    {
     "data": {
      "text/html": [
       "<div>\n",
       "<style scoped>\n",
       "    .dataframe tbody tr th:only-of-type {\n",
       "        vertical-align: middle;\n",
       "    }\n",
       "\n",
       "    .dataframe tbody tr th {\n",
       "        vertical-align: top;\n",
       "    }\n",
       "\n",
       "    .dataframe thead th {\n",
       "        text-align: right;\n",
       "    }\n",
       "</style>\n",
       "<table border=\"1\" class=\"dataframe\">\n",
       "  <thead>\n",
       "    <tr style=\"text-align: right;\">\n",
       "      <th></th>\n",
       "      <th>first_name</th>\n",
       "      <th>last_name</th>\n",
       "      <th>address</th>\n",
       "      <th>zip</th>\n",
       "      <th>phone1</th>\n",
       "      <th>email</th>\n",
       "    </tr>\n",
       "  </thead>\n",
       "  <tbody>\n",
       "    <tr>\n",
       "      <th>0</th>\n",
       "      <td>james</td>\n",
       "      <td>butt</td>\n",
       "      <td>6649 n blue gum st</td>\n",
       "      <td>70116</td>\n",
       "      <td>504-621-8927</td>\n",
       "      <td>jbutt@gmail.com</td>\n",
       "    </tr>\n",
       "    <tr>\n",
       "      <th>1</th>\n",
       "      <td>josephine</td>\n",
       "      <td>darakjy</td>\n",
       "      <td>4 b blue ridge blvd</td>\n",
       "      <td>48116</td>\n",
       "      <td>810-292-9388</td>\n",
       "      <td>josephine_darakjy@darakjy.org</td>\n",
       "    </tr>\n",
       "    <tr>\n",
       "      <th>2</th>\n",
       "      <td>art</td>\n",
       "      <td>venere</td>\n",
       "      <td>8 w cerritos ave #54</td>\n",
       "      <td>8014</td>\n",
       "      <td>856-636-8749</td>\n",
       "      <td>art@venere.org</td>\n",
       "    </tr>\n",
       "    <tr>\n",
       "      <th>3</th>\n",
       "      <td>lenna</td>\n",
       "      <td>paprocki</td>\n",
       "      <td>639 main st</td>\n",
       "      <td>99501</td>\n",
       "      <td>907-385-4412</td>\n",
       "      <td>lpaprocki@hotmail.com</td>\n",
       "    </tr>\n",
       "    <tr>\n",
       "      <th>4</th>\n",
       "      <td>donette</td>\n",
       "      <td>foller</td>\n",
       "      <td>34 center st</td>\n",
       "      <td>45011</td>\n",
       "      <td>513-570-1893</td>\n",
       "      <td>donette.foller@cox.net</td>\n",
       "    </tr>\n",
       "  </tbody>\n",
       "</table>\n",
       "</div>"
      ],
      "text/plain": [
       "  first_name last_name               address    zip        phone1  \\\n",
       "0      james      butt    6649 n blue gum st  70116  504-621-8927   \n",
       "1  josephine   darakjy   4 b blue ridge blvd  48116  810-292-9388   \n",
       "2        art    venere  8 w cerritos ave #54   8014  856-636-8749   \n",
       "3      lenna  paprocki           639 main st  99501  907-385-4412   \n",
       "4    donette    foller          34 center st  45011  513-570-1893   \n",
       "\n",
       "                           email  \n",
       "0                jbutt@gmail.com  \n",
       "1  josephine_darakjy@darakjy.org  \n",
       "2                 art@venere.org  \n",
       "3          lpaprocki@hotmail.com  \n",
       "4         donette.foller@cox.net  "
      ]
     },
     "execution_count": 42,
     "metadata": {},
     "output_type": "execute_result"
    }
   ],
   "source": [
    "landlords.first_name = landlords.first_name.str.lower()\n",
    "landlords.last_name = landlords.last_name.str.lower()\n",
    "landlords.address = landlords.address.str.lower()\n",
    "\n",
    "landlords.head()"
   ]
  },
  {
   "cell_type": "code",
   "execution_count": 68,
   "metadata": {},
   "outputs": [],
   "source": [
    "tenants = landlords.copy()\n",
    "\n",
    "tenants = landlords.sample(frac = .5)\n",
    "tenants = tenants.drop(columns = ['phone1', 'email'])"
   ]
  },
  {
   "cell_type": "code",
   "execution_count": 69,
   "metadata": {},
   "outputs": [
    {
     "data": {
      "text/html": [
       "<div>\n",
       "<style scoped>\n",
       "    .dataframe tbody tr th:only-of-type {\n",
       "        vertical-align: middle;\n",
       "    }\n",
       "\n",
       "    .dataframe tbody tr th {\n",
       "        vertical-align: top;\n",
       "    }\n",
       "\n",
       "    .dataframe thead th {\n",
       "        text-align: right;\n",
       "    }\n",
       "</style>\n",
       "<table border=\"1\" class=\"dataframe\">\n",
       "  <thead>\n",
       "    <tr style=\"text-align: right;\">\n",
       "      <th></th>\n",
       "      <th>first_name</th>\n",
       "      <th>last_name</th>\n",
       "      <th>address</th>\n",
       "      <th>zip</th>\n",
       "    </tr>\n",
       "  </thead>\n",
       "  <tbody>\n",
       "    <tr>\n",
       "      <th>459</th>\n",
       "      <td>cecilia</td>\n",
       "      <td>colaizzo</td>\n",
       "      <td>4 nw 12th st #3849</td>\n",
       "      <td>53717</td>\n",
       "    </tr>\n",
       "    <tr>\n",
       "      <th>253</th>\n",
       "      <td>heike</td>\n",
       "      <td>berganza</td>\n",
       "      <td>3 railway ave #75</td>\n",
       "      <td>7424</td>\n",
       "    </tr>\n",
       "    <tr>\n",
       "      <th>258</th>\n",
       "      <td>martina</td>\n",
       "      <td>staback</td>\n",
       "      <td>7 w wabansia ave #227</td>\n",
       "      <td>32822</td>\n",
       "    </tr>\n",
       "    <tr>\n",
       "      <th>18</th>\n",
       "      <td>yuki</td>\n",
       "      <td>whobrey</td>\n",
       "      <td>1 state route 27</td>\n",
       "      <td>48180</td>\n",
       "    </tr>\n",
       "    <tr>\n",
       "      <th>202</th>\n",
       "      <td>ashlyn</td>\n",
       "      <td>pinilla</td>\n",
       "      <td>703 beville rd</td>\n",
       "      <td>33054</td>\n",
       "    </tr>\n",
       "  </tbody>\n",
       "</table>\n",
       "</div>"
      ],
      "text/plain": [
       "    first_name last_name                address    zip\n",
       "459    cecilia  colaizzo     4 nw 12th st #3849  53717\n",
       "253      heike  berganza      3 railway ave #75   7424\n",
       "258    martina   staback  7 w wabansia ave #227  32822\n",
       "18        yuki   whobrey       1 state route 27  48180\n",
       "202     ashlyn   pinilla         703 beville rd  33054"
      ]
     },
     "execution_count": 69,
     "metadata": {},
     "output_type": "execute_result"
    }
   ],
   "source": [
    "tenants.head()"
   ]
  },
  {
   "cell_type": "code",
   "execution_count": 80,
   "metadata": {},
   "outputs": [
    {
     "name": "stdout",
     "output_type": "stream",
     "text": [
      "first_name\n",
      "last_name\n"
     ]
    }
   ],
   "source": []
  },
  {
   "cell_type": "code",
   "execution_count": 70,
   "metadata": {},
   "outputs": [],
   "source": [
    "matches = pd.DataFrame()"
   ]
  },
  {
   "cell_type": "code",
   "execution_count": null,
   "metadata": {},
   "outputs": [],
   "source": []
  }
 ],
 "metadata": {
  "kernelspec": {
   "display_name": "Python 3",
   "language": "python",
   "name": "python3"
  },
  "language_info": {
   "codemirror_mode": {
    "name": "ipython",
    "version": 3
   },
   "file_extension": ".py",
   "mimetype": "text/x-python",
   "name": "python",
   "nbconvert_exporter": "python",
   "pygments_lexer": "ipython3",
   "version": "3.7.6"
  }
 },
 "nbformat": 4,
 "nbformat_minor": 4
}
