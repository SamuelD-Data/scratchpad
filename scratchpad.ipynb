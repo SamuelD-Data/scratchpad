{
 "cells": [
  {
   "cell_type": "code",
   "execution_count": 93,
   "metadata": {},
   "outputs": [],
   "source": [
    "import pandas as pd\n",
    "import random\n",
    "import numpy as np"
   ]
  },
  {
   "cell_type": "code",
   "execution_count": 94,
   "metadata": {},
   "outputs": [],
   "source": [
    "df = pd.read_csv('BankChurners.csv')"
   ]
  },
  {
   "cell_type": "code",
   "execution_count": 95,
   "metadata": {},
   "outputs": [],
   "source": [
    "df.drop(columns = ['Naive_Bayes_Classifier_Attrition_Flag_Card_Category_Contacts_Count_12_mon_Dependent_count_Education_Level_Months_Inactive_12_mon_1',\n",
    "       'Naive_Bayes_Classifier_Attrition_Flag_Card_Category_Contacts_Count_12_mon_Dependent_count_Education_Level_Months_Inactive_12_mon_2'], inplace = True)\n",
    "\n",
    "df.drop(columns =['Attrition_Flag', 'Income_Category', 'Total_Amt_Chng_Q4_Q1', 'Total_Trans_Amt', 'Total_Trans_Ct', 'Total_Ct_Chng_Q4_Q1', 'Avg_Utilization_Ratio', 'Attrition_Flag', 'Months_on_book', 'Total_Relationship_Count', 'Months_Inactive_12_mon', 'Contacts_Count_12_mon'], inplace = True)\n"
   ]
  },
  {
   "cell_type": "code",
   "execution_count": 96,
   "metadata": {},
   "outputs": [],
   "source": [
    "df['churned'] = np.random.choice([0,1], size=len(df))\n",
    "\n",
    "churn_years = [2017, 2018, 2019, 2020]\n",
    "\n",
    "df[\"churn_year\"] = np.random.choice(churn_years, size=len(df))\n",
    "\n",
    "df['churn_year'] = np.where(df['churned'] == 0, 2099, df['churn_year'] )\n",
    "\n",
    "df.churn_year = pd.to_datetime(df.churn_year, format='%Y')\n"
   ]
  },
  {
   "cell_type": "code",
   "execution_count": 97,
   "metadata": {},
   "outputs": [],
   "source": [
    "churn_reason = ['High Interest', 'Poor Customer Service', 'Poor Online Service', 'Fraud', 'Annual Fee']\n",
    "df['churn_reason'] = 'NA'\n"
   ]
  },
  {
   "cell_type": "code",
   "execution_count": 98,
   "metadata": {},
   "outputs": [],
   "source": [
    "df[\"churn_reason\"] = np.where((df['churn_year'] == '2017-01-01') & (df['churned'] == 1), np.random.choice(churn_reason, size=len(df), p = [.3, .3,.2,.1,.1]), df['churn_reason'])\n",
    "df[\"churn_reason\"] = np.where((df['churn_year'] == '2018-01-01') & (df['churned'] == 1), np.random.choice(churn_reason, size=len(df), p = [.4, .3,.05,.2,.05]), df['churn_reason'])\n",
    "df[\"churn_reason\"] = np.where((df['churn_year'] == '2019-01-01') & (df['churned'] == 1), np.random.choice(churn_reason, size=len(df), p = [.5, .2,.1,.1,.1]), df['churn_reason'])\n",
    "df[\"churn_reason\"] = np.where((df['churn_year'] == '2020-01-01') & (df['churned'] == 1), np.random.choice(churn_reason, size=len(df), p = [.4, .3,.2,.05,.05]), df['churn_reason'])\n"
   ]
  },
  {
   "cell_type": "code",
   "execution_count": 99,
   "metadata": {},
   "outputs": [],
   "source": [
    "int_surv = ['interest too high', 'paying too much interest', 'high interest rate']\n",
    "serv_surv = ['bad customer service', 'poor quality of service', 'horrible customer experience']\n",
    "online_surv = ['i dont like your online service', 'online service too inconvenient', 'need better online service']\n",
    "fraud_surv = ['account was compromised', 'fraud on account', 'lack of security led to fraud']\n",
    "annual_surv = ['i dont like annual fees', 'shouldnt have to pay annual fee', 'tired of yearly fee']\n",
    "\n",
    "df['exit_survey'] = 'NA'\n",
    "df[\"exit_survey\"] = np.where((df['churn_reason'] == 'High Interest'), np.random.choice(int_surv, size=len(df)), df['exit_survey'])\n",
    "df[\"exit_survey\"] = np.where((df['churn_reason'] == 'Poor Customer Service'), np.random.choice(serv_surv, size=len(df)), df['exit_survey'])\n",
    "df[\"exit_survey\"] = np.where((df['churn_reason'] == 'Poor Online Service'), np.random.choice(online_surv, size=len(df)), df['exit_survey'])\n",
    "df[\"exit_survey\"] = np.where((df['churn_reason'] == 'Fraud'), np.random.choice(fraud_surv, size=len(df)), df['exit_survey'])\n",
    "df[\"exit_survey\"] = np.where((df['churn_reason'] == 'Annual Fee'), np.random.choice(annual_surv, size=len(df)), df['exit_survey'])\n"
   ]
  },
  {
   "cell_type": "code",
   "execution_count": 100,
   "metadata": {},
   "outputs": [],
   "source": [
    "df['above_avg_int'] = 0\n",
    "df['low_avg_service_score'] = 0\n",
    "df['low_avg_online_score'] = 0\n",
    "df['fraud_in_history'] = 0\n",
    "df['annual_fee'] = 0\n"
   ]
  },
  {
   "cell_type": "code",
   "execution_count": 101,
   "metadata": {},
   "outputs": [],
   "source": [
    "df[\"above_avg_int\"] = np.where((df['churn_reason'] != 'High Interest'), np.random.choice([0,1], size=len(df), p = [.8, .2]), df['above_avg_int'])\n",
    "df[\"above_avg_int\"] = np.where((df['churn_reason'] == 'High Interest'), np.random.choice([0,1], size=len(df), p = [.3, .7]), df['above_avg_int'])\n",
    "\n",
    "df[\"low_avg_service_score\"] = np.where((df['churn_reason'] != 'Poor Customer Service'), np.random.choice([0,1], size=len(df), p = [.85, .15]), df['low_avg_service_score'])\n",
    "df[\"low_avg_service_score\"] = np.where((df['churn_reason'] == 'Poor Customer Service'), np.random.choice([0,1], size=len(df), p = [.05, .95]), df['low_avg_service_score'])\n",
    "\n",
    "df[\"low_avg_online_score\"] = np.where((df['churn_reason'] != 'Poor Online Service'), np.random.choice([0,1], size=len(df), p = [.80, .2]), df['low_avg_online_score'])\n",
    "df[\"low_avg_online_score\"] = np.where((df['churn_reason'] == 'Poor Online Service'), np.random.choice([0,1], size=len(df), p = [.1, .9]), df['low_avg_online_score'])\n",
    "\n",
    "df[\"fraud_in_history\"] = np.where((df['churn_reason'] != 'Fraud'), np.random.choice([0,1], size=len(df), p = [.95, .05]), df['fraud_in_history'])\n",
    "df[\"fraud_in_history\"] = np.where((df['churn_reason'] == 'Fraud'), np.random.choice([0,1], size=len(df), p = [.02, .98]), df['fraud_in_history'])\n",
    "\n",
    "df[\"annual_fee\"] = np.where((df['churn_reason'] != 'Annual Fee'), np.random.choice([0,1], size=len(df), p = [.5, .5]), df['annual_fee'])\n",
    "df[\"annual_fee\"] = np.where((df['churn_reason'] == 'Annual Fee'), np.random.choice([0,1], size=len(df), p = [0, 1]), df['annual_fee'])\n"
   ]
  },
  {
   "cell_type": "code",
   "execution_count": 102,
   "metadata": {},
   "outputs": [],
   "source": [
    "df['counter'] = 1"
   ]
  },
  {
   "cell_type": "code",
   "execution_count": 106,
   "metadata": {},
   "outputs": [],
   "source": [
    "df.columns = ['CLIENTNUM', 'Customer_Age', 'Gender', 'Dependent_count',\n",
    "       'Education_Level', 'Marital_Status', 'Card_Category', 'Credit_Limit',\n",
    "       'Total_Revolving_Bal', 'Avg_Open_To_Buy', 'above_avg_int', 'low_avg_service_score',\n",
    "       'low_avg_online_score', 'fraud_in_history', 'annual_fee', 'counter', 'exit_survey', \n",
    "        'churned', 'churn_year','churn_reason']"
   ]
  },
  {
   "cell_type": "code",
   "execution_count": 108,
   "metadata": {},
   "outputs": [],
   "source": [
    "df.to_csv('cc_v3.csv')"
   ]
  },
  {
   "cell_type": "code",
   "execution_count": null,
   "metadata": {},
   "outputs": [],
   "source": []
  }
 ],
 "metadata": {
  "kernelspec": {
   "display_name": "Python 3",
   "language": "python",
   "name": "python3"
  },
  "language_info": {
   "codemirror_mode": {
    "name": "ipython",
    "version": 3
   },
   "file_extension": ".py",
   "mimetype": "text/x-python",
   "name": "python",
   "nbconvert_exporter": "python",
   "pygments_lexer": "ipython3",
   "version": "3.7.6"
  }
 },
 "nbformat": 4,
 "nbformat_minor": 4
}
