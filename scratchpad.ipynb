{
 "cells": [
  {
   "cell_type": "code",
   "execution_count": 172,
   "metadata": {},
   "outputs": [],
   "source": [
    "import pandas as pd\n",
    "import random\n",
    "import numpy as np\n",
    "\n",
    "import warnings\n",
    "warnings.filterwarnings(\"ignore\")"
   ]
  },
  {
   "cell_type": "code",
   "execution_count": 173,
   "metadata": {},
   "outputs": [],
   "source": [
    "df = pd.read_csv('BankChurners.csv')\n",
    "\n",
    "df.drop(columns = ['Naive_Bayes_Classifier_Attrition_Flag_Card_Category_Contacts_Count_12_mon_Dependent_count_Education_Level_Months_Inactive_12_mon_1',\n",
    "       'Naive_Bayes_Classifier_Attrition_Flag_Card_Category_Contacts_Count_12_mon_Dependent_count_Education_Level_Months_Inactive_12_mon_2'], inplace = True)\n",
    "\n",
    "df.drop(columns =['Attrition_Flag', 'Income_Category', 'Total_Amt_Chng_Q4_Q1', 'Total_Trans_Amt', 'Total_Trans_Ct', 'Total_Ct_Chng_Q4_Q1', 'Avg_Utilization_Ratio', 'Attrition_Flag', 'Months_on_book', 'Total_Relationship_Count', 'Months_Inactive_12_mon', 'Contacts_Count_12_mon'], inplace = True)\n",
    "\n",
    "df = df.loc[0:9999]\n",
    "\n",
    "df = df[['CLIENTNUM']]\n",
    "\n",
    "df['churned'] = 1\n"
   ]
  },
  {
   "cell_type": "code",
   "execution_count": 174,
   "metadata": {},
   "outputs": [],
   "source": [
    "p_cust = df.loc[0:1499]\n",
    "np_cust = df.loc[1500:1999]\n",
    "p_int = df.loc[2000:2799]\n",
    "np_int = df.loc[2800:3499]\n",
    "p_fraud = df.loc[3500:4249]\n",
    "np_fraud = df.loc[4250:4499]\n",
    "p_novalue = df.loc[4500:5099]\n",
    "np_novalue = df.loc[5100:5499]\n",
    "other = df.loc[5500:5999]\n",
    "no_churn = df.loc[6000:9999]\n",
    "\n",
    "no_churn['churned'] = 0\n",
    "\n",
    "df_list = [p_cust, np_cust, p_int, np_int, p_fraud, np_fraud, p_novalue, np_novalue, other, no_churn]\n"
   ]
  },
  {
   "cell_type": "code",
   "execution_count": 175,
   "metadata": {},
   "outputs": [],
   "source": [
    "def col_maker(d):\n",
    "    cols1 = ['q1_marketed_content', 'q1_fraud', 'q1_cred_req_dec', 'q1_int_abv_100', 'q1_call_escalation', 'q1_low_survey_score']\n",
    "    cols2 = ['q2_marketed_content', 'q2_fraud', 'q2_cred_req_dec', 'q2_int_abv_100', 'q2_call_escalation', 'q2_low_survey_score']\n",
    "    cols3 = ['q3_marketed_content', 'q3_fraud', 'q3_cred_req_dec', 'q3_int_abv_100', 'q3_call_escalation', 'q3_low_survey_score']\n",
    "    cols4 = ['exit_survey', 'churn_reason']\n",
    "    all_cols = cols1 + cols2 + cols3 + cols4\n",
    "    for c in all_cols:\n",
    "        d[c] = 0\n",
    "    return d\n",
    "\n",
    "for d in df_list:\n",
    "    col_maker(d)\n",
    "    "
   ]
  },
  {
   "cell_type": "code",
   "execution_count": 176,
   "metadata": {},
   "outputs": [],
   "source": [
    "cols1 = ['q1_marketed_content', 'q1_fraud', 'q1_cred_req_dec', 'q1_int_abv_100', 'q1_call_escalation', 'q1_low_survey_score']\n",
    "cols2 = ['q2_marketed_content', 'q2_fraud', 'q2_cred_req_dec', 'q2_int_abv_100', 'q2_call_escalation', 'q2_low_survey_score']\n",
    "cols3 = ['q3_marketed_content', 'q3_fraud', 'q3_cred_req_dec', 'q3_int_abv_100', 'q3_call_escalation', 'q3_low_survey_score']\n",
    "cols4 = ['exit_survey', 'churn_reason']\n",
    "all_cols = cols1 + cols2 + cols3 + cols4\n"
   ]
  },
  {
   "cell_type": "code",
   "execution_count": 177,
   "metadata": {},
   "outputs": [],
   "source": [
    "for d in df_list:\n",
    "    for c in d.columns:\n",
    "        if c in cols1 or c in cols2 or c in cols3:\n",
    "            d[c] = np.random.choice([0,1], size = len(d))\n",
    "            \n",
    "for d in df_list:\n",
    "    for c in d.columns:\n",
    "        if c in ['q1_marketed_content', 'q2_marketed_content', 'q3_marketed_content']:\n",
    "            d[c] = np.random.choice(['new product', 'added security', 'finance management', 'location listing', 'online services', 'affiliate offer'], size = len(d))\n",
    "            "
   ]
  },
  {
   "cell_type": "markdown",
   "metadata": {},
   "source": [
    "# p_cust"
   ]
  },
  {
   "cell_type": "code",
   "execution_count": 222,
   "metadata": {},
   "outputs": [],
   "source": [
    "p_cust[['q1_marketed_content', 'q2_low_survey_score', 'q3_low_survey_score', 'q3_call_escalation']] = 'online services', 1, 1, 1\n",
    "\n",
    "serv_surv = ['unfriendly customer service', 'poor quality of service', 'horrible customer experience']\n",
    "p_cust['exit_survey'] = np.random.choice(serv_surv, size = len(p_cust))\n",
    "p_cust['churn_reason'] = 'poor customer service'"
   ]
  },
  {
   "cell_type": "markdown",
   "metadata": {},
   "source": [
    "# np_cust"
   ]
  },
  {
   "cell_type": "code",
   "execution_count": 183,
   "metadata": {},
   "outputs": [],
   "source": [
    "np_cust['exit_survey'] = np.random.choice(serv_surv, size = len(np_cust))\n",
    "np_cust['churn_reason'] = 'poor customer service'"
   ]
  },
  {
   "cell_type": "markdown",
   "metadata": {},
   "source": [
    "# p_int"
   ]
  },
  {
   "cell_type": "code",
   "execution_count": 186,
   "metadata": {},
   "outputs": [],
   "source": [
    "p_int[['q1_int_abv_100', 'q3_marketed_content']] = 1, 'new_product'\n",
    "p_int['q2_marketed_content'] = np.random.choice(['new product', 'added security', 'location listing', 'online services', 'affiliate offer'], size = len(p_int))\n",
    "\n",
    "int_surv = ['interest too high', 'paying too much interest', 'high interest rate']\n",
    "p_int['exit_survey'] = np.random.choice(int_surv, size = len(p_int))\n",
    "p_int['churn_reason'] = 'high interest'"
   ]
  },
  {
   "cell_type": "markdown",
   "metadata": {},
   "source": [
    "# np_int"
   ]
  },
  {
   "cell_type": "code",
   "execution_count": 197,
   "metadata": {},
   "outputs": [],
   "source": [
    "np_int['exit_survey'] = np.random.choice(int_surv, size = len(np_int))\n",
    "np_int['churn_reason'] = 'high interest'"
   ]
  },
  {
   "cell_type": "markdown",
   "metadata": {},
   "source": [
    "# p_fraud"
   ]
  },
  {
   "cell_type": "code",
   "execution_count": 205,
   "metadata": {},
   "outputs": [],
   "source": [
    "p_fraud[['q2_fraud', 'q3_marketed_content']] = 1, 'new_product'\n",
    "p_fraud['q1_marketed_content'] = np.random.choice(['new product', 'finance management', 'location listing', 'online services', 'affiliate offer'], size = len(p_fraud))\n",
    "\n",
    "fraud_surv = ['account was compromised', 'fraud on account', 'lack of security led to fraud']\n",
    "p_fraud['exit_survey'] = np.random.choice(fraud_surv, size = len(p_fraud))\n",
    "p_fraud['churn_reason'] = 'fraud'"
   ]
  },
  {
   "cell_type": "markdown",
   "metadata": {},
   "source": [
    "# np_fraud"
   ]
  },
  {
   "cell_type": "code",
   "execution_count": 206,
   "metadata": {},
   "outputs": [],
   "source": [
    "np_fraud['exit_survey'] = np.random.choice(fraud_surv, size = len(np_fraud))\n",
    "np_fraud['churn_reason'] = 'fraud'"
   ]
  },
  {
   "cell_type": "markdown",
   "metadata": {},
   "source": [
    "# p_novalue"
   ]
  },
  {
   "cell_type": "code",
   "execution_count": 216,
   "metadata": {},
   "outputs": [],
   "source": [
    "p_novalue[['q1_cred_req_dec', 'q3_call_escalation']] = 1, 1\n",
    "p_novalue[['q2_marketed_content']] = np.random.choice(['added security', 'finance management', 'location listing', 'online services', 'affiliate offer'])\n",
    "\n",
    "nv_surv = ['i dont feel valued as a customer', 'i dont feel valued', 'lack of customer appreciation']\n",
    "p_novalue['exit_survey'] = np.random.choice(nv_surv, size = len(p_novalue))\n",
    "p_novalue['churn_reason'] = 'dont feel valued'"
   ]
  },
  {
   "cell_type": "markdown",
   "metadata": {},
   "source": [
    "# np_novalue"
   ]
  },
  {
   "cell_type": "code",
   "execution_count": 217,
   "metadata": {},
   "outputs": [],
   "source": [
    "np_novalue['exit_survey'] = np.random.choice(nv_surv, size = len(np_novalue))\n",
    "np_novalue['churn_reason'] = 'dont feel valued'"
   ]
  },
  {
   "cell_type": "markdown",
   "metadata": {},
   "source": [
    "# other"
   ]
  },
  {
   "cell_type": "code",
   "execution_count": 224,
   "metadata": {},
   "outputs": [],
   "source": [
    "o_surv = ['i dont care to say', 'id prefer not to disclose', '<blank>', 'private matter']\n",
    "other[['exit_survey']] = np.random.choice(o_surv, size = len(other))\n",
    "other['churn_reason'] = 'unknown'"
   ]
  },
  {
   "cell_type": "markdown",
   "metadata": {},
   "source": [
    "# no_churn"
   ]
  },
  {
   "cell_type": "code",
   "execution_count": 226,
   "metadata": {},
   "outputs": [],
   "source": [
    "no_churn['exit_survey'] = 'NA'\n",
    "no_churn['churn_reason'] = 'NA'"
   ]
  },
  {
   "cell_type": "markdown",
   "metadata": {},
   "source": [
    "# combined_df"
   ]
  },
  {
   "cell_type": "code",
   "execution_count": null,
   "metadata": {},
   "outputs": [],
   "source": [
    "p_cust = df.loc[0:1499]\n",
    "np_cust = df.loc[1500:1999]\n",
    "p_int = df.loc[2000:2799]\n",
    "np_int = df.loc[2800:3499]\n",
    "p_fraud = df.loc[3500:4249]\n",
    "np_fraud = df.loc[4250:4499]\n",
    "p_novalue = df.loc[4500:5099]\n",
    "np_novalue = df.loc[5100:5499]\n",
    "other = df.loc[5500:5999]\n",
    "no_churn = df.loc[6000:9999]"
   ]
  },
  {
   "cell_type": "code",
   "execution_count": 232,
   "metadata": {},
   "outputs": [],
   "source": [
    "all_df_list = [p_cust, np_cust, p_int, np_int, p_fraud, np_fraud, p_novalue, np_novalue, other, no_churn]\n",
    "\n",
    "combined_df = pd.concat(all_df_list)\n",
    "\n",
    "combined_df['counter'] = 1"
   ]
  },
  {
   "cell_type": "code",
   "execution_count": 236,
   "metadata": {},
   "outputs": [],
   "source": [
    "combined_df.to_csv('cc_v4.csv')"
   ]
  },
  {
   "cell_type": "code",
   "execution_count": null,
   "metadata": {},
   "outputs": [],
   "source": []
  },
  {
   "cell_type": "markdown",
   "metadata": {},
   "source": [
    "# Code below is outdated, not used in current version"
   ]
  },
  {
   "cell_type": "code",
   "execution_count": 96,
   "metadata": {},
   "outputs": [],
   "source": [
    "churn_years = [2017, 2018, 2019, 2020]\n",
    "\n",
    "df[\"churn_year\"] = np.random.choice(churn_years, size=len(df))\n",
    "\n",
    "df['churn_year'] = np.where(df['churned'] == 0, 2099, df['churn_year'] )\n",
    "\n",
    "df.churn_year = pd.to_datetime(df.churn_year, format='%Y')"
   ]
  },
  {
   "cell_type": "code",
   "execution_count": 97,
   "metadata": {},
   "outputs": [],
   "source": [
    "churn_reason = ['High Interest', 'Poor Customer Service', 'Fraud', 'non valued']\n",
    "df['churn_reason'] = 'NA'\n"
   ]
  },
  {
   "cell_type": "code",
   "execution_count": 98,
   "metadata": {},
   "outputs": [],
   "source": [
    "df[\"churn_reason\"] = np.where((df['churn_year'] == '2017-01-01') & (df['churned'] == 1), np.random.choice(churn_reason, size=len(df), p = [.3, .3,.2,.1,.1]), df['churn_reason'])\n",
    "df[\"churn_reason\"] = np.where((df['churn_year'] == '2018-01-01') & (df['churned'] == 1), np.random.choice(churn_reason, size=len(df), p = [.4, .3,.05,.2,.05]), df['churn_reason'])\n",
    "df[\"churn_reason\"] = np.where((df['churn_year'] == '2019-01-01') & (df['churned'] == 1), np.random.choice(churn_reason, size=len(df), p = [.5, .2,.1,.1,.1]), df['churn_reason'])\n",
    "df[\"churn_reason\"] = np.where((df['churn_year'] == '2020-01-01') & (df['churned'] == 1), np.random.choice(churn_reason, size=len(df), p = [.4, .3,.2,.05,.05]), df['churn_reason'])\n"
   ]
  },
  {
   "cell_type": "code",
   "execution_count": 99,
   "metadata": {},
   "outputs": [],
   "source": [
    "int_surv = ['interest too high', 'paying too much interest', 'high interest rate']\n",
    "serv_surv = ['bad customer service', 'poor quality of service', 'horrible customer experience']\n",
    "online_surv = ['i dont like your online service', 'online service too inconvenient', 'need better online service']\n",
    "fraud_surv = ['account was compromised', 'fraud on account', 'lack of security led to fraud']\n",
    "annual_surv = ['i dont like annual fees', 'shouldnt have to pay annual fee', 'tired of yearly fee']\n",
    "\n",
    "df['exit_survey'] = 'NA'\n",
    "df[\"exit_survey\"] = np.where((df['churn_reason'] == 'High Interest'), np.random.choice(int_surv, size=len(df)), df['exit_survey'])\n",
    "df[\"exit_survey\"] = np.where((df['churn_reason'] == 'Poor Customer Service'), np.random.choice(serv_surv, size=len(df)), df['exit_survey'])\n",
    "df[\"exit_survey\"] = np.where((df['churn_reason'] == 'Poor Online Service'), np.random.choice(online_surv, size=len(df)), df['exit_survey'])\n",
    "df[\"exit_survey\"] = np.where((df['churn_reason'] == 'Fraud'), np.random.choice(fraud_surv, size=len(df)), df['exit_survey'])\n",
    "df[\"exit_survey\"] = np.where((df['churn_reason'] == 'Annual Fee'), np.random.choice(annual_surv, size=len(df)), df['exit_survey'])\n"
   ]
  },
  {
   "cell_type": "code",
   "execution_count": 100,
   "metadata": {},
   "outputs": [],
   "source": [
    "df['above_avg_int'] = 0\n",
    "df['low_avg_service_score'] = 0\n",
    "df['low_avg_online_score'] = 0\n",
    "df['fraud_in_history'] = 0\n",
    "df['annual_fee'] = 0\n"
   ]
  },
  {
   "cell_type": "code",
   "execution_count": 101,
   "metadata": {},
   "outputs": [],
   "source": [
    "df[\"above_avg_int\"] = np.where((df['churn_reason'] != 'High Interest'), np.random.choice([0,1], size=len(df), p = [.8, .2]), df['above_avg_int'])\n",
    "df[\"above_avg_int\"] = np.where((df['churn_reason'] == 'High Interest'), np.random.choice([0,1], size=len(df), p = [.3, .7]), df['above_avg_int'])\n",
    "\n",
    "df[\"low_avg_service_score\"] = np.where((df['churn_reason'] != 'Poor Customer Service'), np.random.choice([0,1], size=len(df), p = [.85, .15]), df['low_avg_service_score'])\n",
    "df[\"low_avg_service_score\"] = np.where((df['churn_reason'] == 'Poor Customer Service'), np.random.choice([0,1], size=len(df), p = [.05, .95]), df['low_avg_service_score'])\n",
    "\n",
    "df[\"low_avg_online_score\"] = np.where((df['churn_reason'] != 'Poor Online Service'), np.random.choice([0,1], size=len(df), p = [.80, .2]), df['low_avg_online_score'])\n",
    "df[\"low_avg_online_score\"] = np.where((df['churn_reason'] == 'Poor Online Service'), np.random.choice([0,1], size=len(df), p = [.1, .9]), df['low_avg_online_score'])\n",
    "\n",
    "df[\"fraud_in_history\"] = np.where((df['churn_reason'] != 'Fraud'), np.random.choice([0,1], size=len(df), p = [.95, .05]), df['fraud_in_history'])\n",
    "df[\"fraud_in_history\"] = np.where((df['churn_reason'] == 'Fraud'), np.random.choice([0,1], size=len(df), p = [.02, .98]), df['fraud_in_history'])\n",
    "\n",
    "df[\"annual_fee\"] = np.where((df['churn_reason'] != 'Annual Fee'), np.random.choice([0,1], size=len(df), p = [.5, .5]), df['annual_fee'])\n",
    "df[\"annual_fee\"] = np.where((df['churn_reason'] == 'Annual Fee'), np.random.choice([0,1], size=len(df), p = [0, 1]), df['annual_fee'])\n"
   ]
  },
  {
   "cell_type": "code",
   "execution_count": 102,
   "metadata": {},
   "outputs": [],
   "source": [
    "df['counter'] = 1"
   ]
  },
  {
   "cell_type": "code",
   "execution_count": 106,
   "metadata": {},
   "outputs": [],
   "source": [
    "df.columns = ['CLIENTNUM', 'Customer_Age', 'Gender', 'Dependent_count',\n",
    "       'Education_Level', 'Marital_Status', 'Card_Category', 'Credit_Limit',\n",
    "       'Total_Revolving_Bal', 'Avg_Open_To_Buy', 'above_avg_int', 'low_avg_service_score',\n",
    "       'low_avg_online_score', 'fraud_in_history', 'annual_fee', 'counter', 'exit_survey', \n",
    "        'churned', 'churn_year','churn_reason']"
   ]
  },
  {
   "cell_type": "code",
   "execution_count": 108,
   "metadata": {},
   "outputs": [],
   "source": [
    "df.to_csv('cc_v3.csv')"
   ]
  },
  {
   "cell_type": "code",
   "execution_count": null,
   "metadata": {},
   "outputs": [],
   "source": []
  }
 ],
 "metadata": {
  "kernelspec": {
   "display_name": "Python 3",
   "language": "python",
   "name": "python3"
  },
  "language_info": {
   "codemirror_mode": {
    "name": "ipython",
    "version": 3
   },
   "file_extension": ".py",
   "mimetype": "text/x-python",
   "name": "python",
   "nbconvert_exporter": "python",
   "pygments_lexer": "ipython3",
   "version": "3.7.6"
  }
 },
 "nbformat": 4,
 "nbformat_minor": 4
}
